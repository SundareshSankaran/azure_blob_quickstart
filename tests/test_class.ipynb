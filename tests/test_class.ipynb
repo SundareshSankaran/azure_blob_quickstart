{
 "cells": [
  {
   "cell_type": "markdown",
   "id": "c2a40fbd-6e1e-45f3-b92e-9b022307fc1e",
   "metadata": {},
   "source": [
    "# Class to interact with Azure Blob Storage - Examples and Test"
   ]
  },
  {
   "cell_type": "markdown",
   "id": "bb1c4eaf-8808-4016-8546-e2bbead185c2",
   "metadata": {
    "jp-MarkdownHeadingCollapsed": true
   },
   "source": [
    "## Define class"
   ]
  },
  {
   "cell_type": "code",
   "execution_count": 33,
   "id": "731cb273-2356-48c6-b77c-35445f86c88e",
   "metadata": {},
   "outputs": [],
   "source": [
    "class BlobAccessClass:\n",
    "    \"\"\"\n",
    "    This class provides methods to interact with Azure Blob Storage.\n",
    "    It allows listing containers, getting a specific container client,\n",
    "    listing blobs in a container, searching for blobs, downloading blobs,\n",
    "    and uploading files to blobs.\n",
    "    \"\"\"\n",
    "\n",
    "    def __init__(self, blob_service_client= None, container_list=[], container_client=None):\n",
    "        \"\"\"\n",
    "        Initialize the BlobAccessClass with a BlobServiceClient.\n",
    "        If no client is provided, it will create one using the connection string.\n",
    "        \"\"\"\n",
    "\n",
    "        # Authentication steps to obtain a Blob Service Client, which can then be used for above operations.\n",
    "\n",
    "        import os\n",
    "        from azure.identity import DefaultAzureCredential\n",
    "        from azure.storage.blob import BlobServiceClient, BlobClient, ContainerClient\n",
    "        from dotenv import load_dotenv\n",
    "        # Load environment variables\n",
    "        load_dotenv()\n",
    "\n",
    "        if blob_service_client is None:\n",
    "            try:\n",
    "                # Authenticate to the Azure Storage account using the connection string\n",
    "                # Ensure you have the AZURE_STORAGE_CONNECTION_STRING environment variable set\n",
    "                # You can set it in your environment or use a .env file with the dotenv package\n",
    "                # Check if the environment variable is set\n",
    "                connect_str = os.getenv(\"AZURE_STORAGE_CONNECTION_STRING\")\n",
    "                if not connect_str:\n",
    "                    raise ValueError(\"AZURE_STORAGE_CONNECTION_STRING environment variable is not set.\")\n",
    "                self.blob_service_client = BlobServiceClient.from_connection_string(connect_str)\n",
    "                print(\"Blob service client created successfully.\")\n",
    "            except Exception as e:\n",
    "                print(f\"Error creating BlobServiceClient: {e}\")\n",
    "                raise\n",
    "            if container_list == []:\n",
    "                self.list_containers()\n",
    "            else:\n",
    "                self.container_list = container_list\n",
    "        else:\n",
    "            self.blob_service_client = blob_service_client\n",
    "            self.list_containers()\n",
    "        self.container_client = container_client if container_client else None\n",
    "        self.blobs = []\n",
    "\n",
    "    # Method to list all containers in the storage account\n",
    "    def list_containers(self):\n",
    "        \"\"\"\n",
    "        List all containers in the storage account.\n",
    "        Populates container_list with a list of container names.\n",
    "        \"\"\"\n",
    "        try:\n",
    "            containers = self.blob_service_client.list_containers()\n",
    "            self.container_list = []\n",
    "            for container in containers:\n",
    "                self.container_list.append(container.name)\n",
    "        except Exception as e:\n",
    "            print(f\"Error listing containers: {e}\")\n",
    "            raise\n",
    "        for container in self.container_list:\n",
    "            print(f\"Container: {container}\")\n",
    "\n",
    "    # Method to get a specific container client\n",
    "    def get_container(self, container_name):\n",
    "        \"\"\"\n",
    "        Get a client for a specific container.\n",
    "        Returns a ContainerClient object pointing to the specified container.\n",
    "        \"\"\"\n",
    "        if not container_name:\n",
    "            raise ValueError(\"Container name must be provided.\")\n",
    "        elif container_name not in self.container_list:\n",
    "            raise ValueError(f\"Container '{container_name}' does not exist in the storage account.\")\n",
    "        else:\n",
    "            try:\n",
    "                self.container_client = self.blob_service_client.get_container_client(container_name)\n",
    "            except Exception as e:\n",
    "                print(f\"Error getting container client: {e}\")\n",
    "                raise\n",
    "\n",
    "\n",
    "    # Method to list blobs in a specific container\n",
    "    def list_blobs(self, blobs=None):\n",
    "        \"\"\"\n",
    "        List all blobs in the specified container.\n",
    "        If blobs is provided, it will be used to populate the blobs attribute.\n",
    "        Prints a list of blob names in the container.\n",
    "        \"\"\"\n",
    "        self.blobs = blobs if blobs else []\n",
    "        try:\n",
    "            blobs = self.container_client.list_blobs()\n",
    "            for blob in blobs:\n",
    "                print(f\"Blob: {blob.name}\")\n",
    "                self.blobs.append(blob.name)\n",
    "        except Exception as e:\n",
    "            print(f\"Error listing blobs: {e}\")\n",
    "            raise\n",
    "\n",
    "    # Method to search and get a specific blob in a container\n",
    "    def search_blob(self, search_term):\n",
    "        try:\n",
    "            print(f\"Searching for blobs matching: {search_term}\")\n",
    "            all_blobs = self.container_client.list_blobs()\n",
    "            self.search_results = []\n",
    "            for blob in all_blobs:\n",
    "                if search_term in blob.name:\n",
    "                    self.search_results.append(blob)\n",
    "            return self.search_results\n",
    "        except Exception as e:\n",
    "            print(f\"Error getting blob client: {e}\")\n",
    "            raise\n",
    "\n",
    "    # Method to download a blob to a local file\n",
    "    def download_blob(self, blob_name, download_file_path):\n",
    "        import os\n",
    "        if os.path.isdir(download_file_path):\n",
    "            print(\"Is a directory\")\n",
    "            download_file_path = os.path.join(download_file_path, blob_name)\n",
    "        elif os.path.isfile(download_file_path):\n",
    "            print(\"Is a file\")\n",
    "            print(f\"folder for this is {os.path.dirname(download_file_path)}\")\n",
    "            download_file_path = os.path.join(os.path.dirname(download_file_path), os.path.dirname(blob_name), os.path.basename(download_file_path))\n",
    "        else:\n",
    "            root, ext = os.path.splitext(download_file_path)\n",
    "            if not ext:\n",
    "                download_file_path = os.path.join(download_file_path,os.path.basename(blob_name))\n",
    "                root=root \n",
    "            download_file_path = os.path.join(os.getcwd(),download_file_path)\n",
    "        print(f\"download_file_path is {download_file_path}\")\n",
    "        try:\n",
    "            if not os.path.exists(os.path.dirname(download_file_path)):\n",
    "                os.makedirs(os.path.dirname(download_file_path), exist_ok=True)\n",
    "                print(\"Created directory:\", os.path.dirname(download_file_path))\n",
    "            blob_client = self.container_client.get_blob_client(blob_name)\n",
    "            with open(download_file_path, \"wb\") as download_file:\n",
    "                download_file.write(blob_client.download_blob().readall())\n",
    "            print(f\"Blob '{blob_name}' downloaded to '{download_file_path}' successfully.\")\n",
    "        except Exception as e:\n",
    "            print(f\"Error downloading blob: {e}\")\n",
    "            print(download_file_path)\n",
    "            raise\n",
    "\n",
    "    # Method to upload a file to a blob in a container\n",
    "    def upload_blob(self, file_path, blob_name):\n",
    "        try:\n",
    "            blob_client = self.container_client.get_blob_client(blob_name)\n",
    "            with open(file_path, \"rb\") as data:\n",
    "                blob_client.upload_blob(data, overwrite=True)\n",
    "            print(f\"File '{file_path}' uploaded to blob '{blob_name}' successfully.\")\n",
    "        except Exception as e:\n",
    "            print(f\"Error uploading file: {e}\")\n",
    "            raise\n"
   ]
  },
  {
   "cell_type": "markdown",
   "id": "ea9b14c4-8851-49e0-9dff-fa78107a1bd8",
   "metadata": {},
   "source": [
    "## Initialize class"
   ]
  },
  {
   "cell_type": "code",
   "execution_count": 34,
   "id": "44cb13d4-7d4d-4f5f-bbb8-0800df7e2a54",
   "metadata": {},
   "outputs": [
    {
     "name": "stdout",
     "output_type": "stream",
     "text": [
      "Blob service client created successfully.\n",
      "Container: data-maker-demo-model-storage\n",
      "Container: data-maker-demo-synthetic-data\n",
      "Container: data-maker-input-data\n",
      "Container: data-maker-model-storage\n",
      "Container: data-maker-qa-model-storage\n",
      "Container: data-maker-synthetic-data\n",
      "Container: data-maker-test-input-data\n",
      "Container: hazy-assets\n"
     ]
    }
   ],
   "source": [
    "blob_acct = BlobAccessClass()"
   ]
  },
  {
   "cell_type": "markdown",
   "id": "9a598d46-7b21-4e53-a86f-231ff0234159",
   "metadata": {},
   "source": [
    "## List methods"
   ]
  },
  {
   "cell_type": "code",
   "execution_count": 35,
   "id": "5ba4b7b3-b6e5-4ce4-b2a3-9e3a60d1a1db",
   "metadata": {},
   "outputs": [
    {
     "name": "stdout",
     "output_type": "stream",
     "text": [
      "Help on BlobAccessClass in module __main__ object:\n",
      "\n",
      "class BlobAccessClass(builtins.object)\n",
      " |  BlobAccessClass(blob_service_client=None, container_list=[], container_client=None)\n",
      " |  \n",
      " |  This class provides methods to interact with Azure Blob Storage.\n",
      " |  It allows listing containers, getting a specific container client,\n",
      " |  listing blobs in a container, searching for blobs, downloading blobs,\n",
      " |  and uploading files to blobs.\n",
      " |  \n",
      " |  Methods defined here:\n",
      " |  \n",
      " |  __init__(self, blob_service_client=None, container_list=[], container_client=None)\n",
      " |      Initialize the BlobAccessClass with a BlobServiceClient.\n",
      " |      If no client is provided, it will create one using the connection string.\n",
      " |  \n",
      " |  download_blob(self, blob_name, download_file_path)\n",
      " |      # Method to download a blob to a local file\n",
      " |  \n",
      " |  get_container(self, container_name)\n",
      " |      Get a client for a specific container.\n",
      " |      Returns a ContainerClient object pointing to the specified container.\n",
      " |  \n",
      " |  list_blobs(self, blobs=None)\n",
      " |      List all blobs in the specified container.\n",
      " |      If blobs is provided, it will be used to populate the blobs attribute.\n",
      " |      Prints a list of blob names in the container.\n",
      " |  \n",
      " |  list_containers(self)\n",
      " |      List all containers in the storage account.\n",
      " |      Populates container_list with a list of container names.\n",
      " |  \n",
      " |  search_blob(self, search_term)\n",
      " |      # Method to search and get a specific blob in a container\n",
      " |  \n",
      " |  upload_blob(self, file_path, blob_name)\n",
      " |      # Method to upload a file to a blob in a container\n",
      " |  \n",
      " |  ----------------------------------------------------------------------\n",
      " |  Data descriptors defined here:\n",
      " |  \n",
      " |  __dict__\n",
      " |      dictionary for instance variables (if defined)\n",
      " |  \n",
      " |  __weakref__\n",
      " |      list of weak references to the object (if defined)\n",
      "\n"
     ]
    }
   ],
   "source": [
    "help(blob_acct)"
   ]
  },
  {
   "cell_type": "markdown",
   "id": "29922dcf-b433-4562-8d9d-2f3b08cf5509",
   "metadata": {},
   "source": [
    "## List containers"
   ]
  },
  {
   "cell_type": "code",
   "execution_count": 36,
   "id": "e67e093d-08dd-47a2-a193-6ac8e21c6835",
   "metadata": {},
   "outputs": [
    {
     "name": "stdout",
     "output_type": "stream",
     "text": [
      "Container: data-maker-demo-model-storage\n",
      "Container: data-maker-demo-synthetic-data\n",
      "Container: data-maker-input-data\n",
      "Container: data-maker-model-storage\n",
      "Container: data-maker-qa-model-storage\n",
      "Container: data-maker-synthetic-data\n",
      "Container: data-maker-test-input-data\n",
      "Container: hazy-assets\n"
     ]
    }
   ],
   "source": [
    "blob_acct.list_containers()"
   ]
  },
  {
   "cell_type": "code",
   "execution_count": 37,
   "id": "a470f871-a58d-452e-9a4c-6b1c5aea85b8",
   "metadata": {},
   "outputs": [
    {
     "data": {
      "text/plain": [
       "['data-maker-demo-model-storage',\n",
       " 'data-maker-demo-synthetic-data',\n",
       " 'data-maker-input-data',\n",
       " 'data-maker-model-storage',\n",
       " 'data-maker-qa-model-storage',\n",
       " 'data-maker-synthetic-data',\n",
       " 'data-maker-test-input-data',\n",
       " 'hazy-assets']"
      ]
     },
     "execution_count": 37,
     "metadata": {},
     "output_type": "execute_result"
    }
   ],
   "source": [
    "blob_acct.container_list"
   ]
  },
  {
   "cell_type": "markdown",
   "id": "3e350a77-8b1e-4993-ba48-92ee304235e6",
   "metadata": {},
   "source": [
    "## Refer a container"
   ]
  },
  {
   "cell_type": "code",
   "execution_count": 38,
   "id": "18e4fc4a-cec2-46d5-bf5a-3ee74f70c4de",
   "metadata": {},
   "outputs": [],
   "source": [
    "blob_acct.get_container('data-maker-input-data')"
   ]
  },
  {
   "cell_type": "code",
   "execution_count": null,
   "id": "6d4d0e45-5b7c-437c-8167-2ac5f896e97d",
   "metadata": {},
   "outputs": [],
   "source": [
    "blob_acct.container_client.__dict__"
   ]
  },
  {
   "cell_type": "markdown",
   "id": "62d40418-51f3-4151-91c3-69cfc33f1aaa",
   "metadata": {},
   "source": [
    "## List blobs in a container"
   ]
  },
  {
   "cell_type": "code",
   "execution_count": 40,
   "id": "19aed178-274e-43cf-ac04-1ef294e6d0cd",
   "metadata": {
    "collapsed": true,
    "jupyter": {
     "outputs_hidden": true
    }
   },
   "outputs": [
    {
     "name": "stdout",
     "output_type": "stream",
     "text": [
      "Blob: Education/RateMyProfessor_Sample data.csv\n",
      "Blob: Education/goodprof_badprof.csv\n",
      "Blob: Education/student_habits_performance.csv\n",
      "Blob: Govt_RB_AG/dwp_charity_010525.csv\n",
      "Blob: Govt_RB_AG/dwp_charity_020625.csv\n",
      "Blob: HLS/Adverse_Events.csv\n",
      "Blob: HLS/Concomitant_Medications.csv\n",
      "Blob: HLS/Drug_Administration.csv\n",
      "Blob: HLS/Laboratory_Results.csv\n",
      "Blob: HLS/Patient_Disposition.csv\n",
      "Blob: HLS/Patient_Information.csv\n",
      "Blob: HLS/Visit_Schedule.csv\n",
      "Blob: HMEQLONG2_DATETIME.csv\n",
      "Blob: Survival_Analysis/sim_tte.csv\n",
      "Blob: UCI Machine Learning Repository/Citation.txt\n",
      "Blob: UCI Machine Learning Repository/processed_cleveland_data.csv\n",
      "Blob: adult/adult.csv.gz\n",
      "Blob: banking/account.csv.gz\n",
      "Blob: banking/card.csv.gz\n",
      "Blob: banking/client.csv.gz\n",
      "Blob: banking/disp.csv.gz\n",
      "Blob: banking/district.csv.gz\n",
      "Blob: banking/loan.csv.gz\n",
      "Blob: banking/order.csv.gz\n",
      "Blob: banking/trans.csv.gz\n",
      "Blob: doe/DOE_HAMR.csv\n",
      "Blob: doe/DOE_Material_Composition.csv\n",
      "Blob: golf/ALL_GOLF.parquet\n",
      "Blob: golf/NEW_GOLF.parquet\n",
      "Blob: golf/golf_copy.parquet\n",
      "Blob: hmeq/HMEQ_WITH_CUST.parquet\n",
      "Blob: hmeq/hmeq.csv\n",
      "Blob: kidney_disease/kidney.csv\n",
      "Blob: lending-club/lending_club.csv\n",
      "Blob: loans/loanapplications.csv\n",
      "Blob: movie_ratings/movie.csv.gz\n",
      "Blob: movie_ratings/ratings.csv.gz\n",
      "Blob: movie_ratings/user.csv.gz\n",
      "Blob: movielens_avro/movie.avro\n",
      "Blob: movielens_avro/ratings.avro\n",
      "Blob: movielens_avro/user.avro\n",
      "Blob: sdtm/ae.parquet\n",
      "Blob: sdtm/cm.parquet\n",
      "Blob: sdtm/dm.parquet\n",
      "Blob: sdtm/ds.parquet\n",
      "Blob: sdtm/ex.parquet\n",
      "Blob: sdtm/lb.parquet\n",
      "Blob: sdtm/mh.parquet\n",
      "Blob: sdtm/qs.parquet\n",
      "Blob: sdtm/relrec.parquet\n",
      "Blob: sdtm/sc.parquet\n",
      "Blob: sdtm/se.parquet\n",
      "Blob: sdtm/suppae.parquet\n",
      "Blob: sdtm/suppdm.parquet\n",
      "Blob: sdtm/suppds.parquet\n",
      "Blob: sdtm/supplb.parquet\n",
      "Blob: sdtm/sv.parquet\n",
      "Blob: sdtm/ta.parquet\n",
      "Blob: sdtm/te.parquet\n",
      "Blob: sdtm/ti.parquet\n",
      "Blob: sdtm/ts.parquet\n",
      "Blob: sdtm/tv.parquet\n",
      "Blob: sdtm/vs.parquet\n",
      "Blob: skinproduct/skinproduct.sas7bdat\n",
      "Blob: skinproduct/skinproduct.sashdat\n",
      "Blob: test_all_types/address.parquet\n",
      "Blob: test_all_types/address_multi_locale.parquet\n",
      "Blob: test_all_types/category.parquet\n",
      "Blob: test_all_types/constant.parquet\n",
      "Blob: test_all_types/datetime.parquet\n",
      "Blob: test_all_types/float.parquet\n",
      "Blob: test_all_types/id.parquet\n",
      "Blob: test_all_types/int.parquet\n",
      "Blob: test_all_types/person.parquet\n",
      "Blob: test_all_types/reference.parquet\n",
      "Blob: test_all_types/repeat_by.parquet\n",
      "Blob: test_all_types/sequential.parquet\n",
      "Blob: test_all_types/timedelta.parquet\n",
      "Blob: winequality/winequality.csv\n"
     ]
    }
   ],
   "source": [
    "blob_acct.list_blobs()"
   ]
  },
  {
   "cell_type": "markdown",
   "id": "70bcabef-d9df-44ba-bec7-c29db787bd8a",
   "metadata": {},
   "source": [
    "### Refer attributes blobs within BlobAccess object"
   ]
  },
  {
   "cell_type": "code",
   "execution_count": null,
   "id": "e69ab514-ba71-444b-bc7d-4a4d47f8fdbc",
   "metadata": {
    "scrolled": true
   },
   "outputs": [],
   "source": [
    "blob_acct.blobs"
   ]
  },
  {
   "cell_type": "markdown",
   "id": "1f29fdff-bcf8-4d7a-94c3-ec21d0026304",
   "metadata": {},
   "source": [
    "## Search for a blob"
   ]
  },
  {
   "cell_type": "code",
   "execution_count": 42,
   "id": "8bda0a8c-df78-4614-a1c5-a6bfd32ba11f",
   "metadata": {
    "collapsed": true,
    "jupyter": {
     "outputs_hidden": true
    }
   },
   "outputs": [
    {
     "name": "stdout",
     "output_type": "stream",
     "text": [
      "Searching for blobs matching: golf\n"
     ]
    },
    {
     "data": {
      "text/plain": [
       "[{'name': 'golf/ALL_GOLF.parquet', 'container': 'data-maker-input-data', 'snapshot': None, 'version_id': None, 'is_current_version': None, 'blob_type': <BlobType.BLOCKBLOB: 'BlockBlob'>, 'metadata': {}, 'encrypted_metadata': None, 'last_modified': datetime.datetime(2025, 6, 17, 19, 8, 43, tzinfo=datetime.timezone.utc), 'etag': '0x8DDADD260E401D3', 'size': 19036, 'content_range': None, 'append_blob_committed_block_count': None, 'is_append_blob_sealed': None, 'page_blob_sequence_number': None, 'server_encrypted': True, 'copy': {'id': None, 'source': None, 'status': None, 'progress': None, 'completion_time': None, 'status_description': None, 'incremental_copy': None, 'destination_snapshot': None}, 'content_settings': {'content_type': 'application/octet-stream', 'content_encoding': None, 'content_language': None, 'content_md5': bytearray(b'YUM\\x04\\xadv\\xf1\\x7f\\x18\\x04\\x0e\\x0f1j\\x9a?'), 'content_disposition': None, 'cache_control': None}, 'lease': {'status': 'unlocked', 'state': 'available', 'duration': None}, 'blob_tier': 'Hot', 'rehydrate_priority': None, 'blob_tier_change_time': None, 'blob_tier_inferred': True, 'deleted': None, 'deleted_time': None, 'remaining_retention_days': None, 'creation_time': datetime.datetime(2025, 5, 30, 18, 50, 46, tzinfo=datetime.timezone.utc), 'archive_status': None, 'encryption_key_sha256': None, 'encryption_scope': None, 'request_server_encrypted': None, 'object_replication_source_properties': [], 'object_replication_destination_policy': None, 'last_accessed_on': None, 'tag_count': 1, 'tags': None, 'immutability_policy': {'expiry_time': None, 'policy_mode': None}, 'has_legal_hold': None, 'has_versions_only': None},\n",
       " {'name': 'golf/NEW_GOLF.parquet', 'container': 'data-maker-input-data', 'snapshot': None, 'version_id': None, 'is_current_version': None, 'blob_type': <BlobType.BLOCKBLOB: 'BlockBlob'>, 'metadata': {}, 'encrypted_metadata': None, 'last_modified': datetime.datetime(2025, 7, 15, 3, 37, 35, tzinfo=datetime.timezone.utc), 'etag': '0x8DDC350F08D353D', 'size': 19036, 'content_range': None, 'append_blob_committed_block_count': None, 'is_append_blob_sealed': None, 'page_blob_sequence_number': None, 'server_encrypted': True, 'copy': {'id': None, 'source': None, 'status': None, 'progress': None, 'completion_time': None, 'status_description': None, 'incremental_copy': None, 'destination_snapshot': None}, 'content_settings': {'content_type': 'application/octet-stream', 'content_encoding': None, 'content_language': None, 'content_md5': bytearray(b'YUM\\x04\\xadv\\xf1\\x7f\\x18\\x04\\x0e\\x0f1j\\x9a?'), 'content_disposition': None, 'cache_control': None}, 'lease': {'status': 'unlocked', 'state': 'available', 'duration': None}, 'blob_tier': 'Hot', 'rehydrate_priority': None, 'blob_tier_change_time': None, 'blob_tier_inferred': True, 'deleted': None, 'deleted_time': None, 'remaining_retention_days': None, 'creation_time': datetime.datetime(2025, 7, 15, 3, 37, 35, tzinfo=datetime.timezone.utc), 'archive_status': None, 'encryption_key_sha256': None, 'encryption_scope': None, 'request_server_encrypted': None, 'object_replication_source_properties': [], 'object_replication_destination_policy': None, 'last_accessed_on': None, 'tag_count': None, 'tags': None, 'immutability_policy': {'expiry_time': None, 'policy_mode': None}, 'has_legal_hold': None, 'has_versions_only': None},\n",
       " {'name': 'golf/golf_copy.parquet', 'container': 'data-maker-input-data', 'snapshot': None, 'version_id': None, 'is_current_version': None, 'blob_type': <BlobType.BLOCKBLOB: 'BlockBlob'>, 'metadata': {}, 'encrypted_metadata': None, 'last_modified': datetime.datetime(2025, 7, 12, 13, 40, 57, tzinfo=datetime.timezone.utc), 'etag': '0x8DDC149BB8C26C6', 'size': 19036, 'content_range': None, 'append_blob_committed_block_count': None, 'is_append_blob_sealed': None, 'page_blob_sequence_number': None, 'server_encrypted': True, 'copy': {'id': None, 'source': None, 'status': None, 'progress': None, 'completion_time': None, 'status_description': None, 'incremental_copy': None, 'destination_snapshot': None}, 'content_settings': {'content_type': 'application/octet-stream', 'content_encoding': None, 'content_language': None, 'content_md5': bytearray(b'YUM\\x04\\xadv\\xf1\\x7f\\x18\\x04\\x0e\\x0f1j\\x9a?'), 'content_disposition': None, 'cache_control': None}, 'lease': {'status': 'unlocked', 'state': 'available', 'duration': None}, 'blob_tier': 'Hot', 'rehydrate_priority': None, 'blob_tier_change_time': None, 'blob_tier_inferred': True, 'deleted': None, 'deleted_time': None, 'remaining_retention_days': None, 'creation_time': datetime.datetime(2025, 7, 12, 13, 40, 57, tzinfo=datetime.timezone.utc), 'archive_status': None, 'encryption_key_sha256': None, 'encryption_scope': None, 'request_server_encrypted': None, 'object_replication_source_properties': [], 'object_replication_destination_policy': None, 'last_accessed_on': None, 'tag_count': None, 'tags': None, 'immutability_policy': {'expiry_time': None, 'policy_mode': None}, 'has_legal_hold': None, 'has_versions_only': None}]"
      ]
     },
     "execution_count": 42,
     "metadata": {},
     "output_type": "execute_result"
    }
   ],
   "source": [
    "blob_acct.search_blob(\"golf\")"
   ]
  },
  {
   "cell_type": "code",
   "execution_count": null,
   "id": "f533edf6-f152-4673-b838-36d54a3e41df",
   "metadata": {},
   "outputs": [],
   "source": [
    "blob_acct.search_results"
   ]
  },
  {
   "cell_type": "markdown",
   "id": "74f2c34a-5dff-4782-90a2-a92dbcfc4f58",
   "metadata": {},
   "source": [
    "## Download blobs (for example, the first search result)"
   ]
  },
  {
   "cell_type": "code",
   "execution_count": 44,
   "id": "cfbe6500-4395-415a-b376-8789194e4869",
   "metadata": {},
   "outputs": [
    {
     "name": "stdout",
     "output_type": "stream",
     "text": [
      "Is a directory\n",
      "download_file_path is /Users/sinsrn/current_projects/azure_blob_quickstart/tests/golf/ALL_GOLF.parquet\n",
      "Blob 'golf/ALL_GOLF.parquet' downloaded to '/Users/sinsrn/current_projects/azure_blob_quickstart/tests/golf/ALL_GOLF.parquet' successfully.\n"
     ]
    }
   ],
   "source": [
    "import os\n",
    "blob_acct.download_blob(blob_acct.search_results[0],os.getcwd())"
   ]
  },
  {
   "cell_type": "markdown",
   "id": "12ff3720-482a-4ebb-bada-71bf5aa8985d",
   "metadata": {},
   "source": [
    "## Upload file to blob storage"
   ]
  },
  {
   "cell_type": "code",
   "execution_count": 45,
   "id": "13ef1e36-70fb-41f8-a1e5-11f0f865dde2",
   "metadata": {},
   "outputs": [
    {
     "name": "stdout",
     "output_type": "stream",
     "text": [
      "File '/Users/sinsrn/current_projects/azure_blob_quickstart/tests/golf/ALL_GOLF.parquet' uploaded to blob 'golf/NEW_GOLF.parquet' successfully.\n"
     ]
    }
   ],
   "source": [
    "blob_acct.upload_blob(os.path.join(os.getcwd(),\"golf\",\"ALL_GOLF.parquet\"),\"golf/NEW_GOLF.parquet\")"
   ]
  },
  {
   "cell_type": "markdown",
   "id": "d32e42ba-e737-4c18-9a45-8de846512066",
   "metadata": {},
   "source": [
    "![\"Golf uploaded\"](./img/golf_screenshot.png)"
   ]
  }
 ],
 "metadata": {
  "kernelspec": {
   "display_name": "azureblobtest",
   "language": "python",
   "name": "azureblobtest"
  },
  "language_info": {
   "codemirror_mode": {
    "name": "ipython",
    "version": 3
   },
   "file_extension": ".py",
   "mimetype": "text/x-python",
   "name": "python",
   "nbconvert_exporter": "python",
   "pygments_lexer": "ipython3",
   "version": "3.11.3"
  }
 },
 "nbformat": 4,
 "nbformat_minor": 5
}
